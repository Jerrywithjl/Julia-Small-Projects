{
 "cells": [
  {
   "cell_type": "code",
   "execution_count": 16,
   "id": "f0f92ed0",
   "metadata": {},
   "outputs": [
    {
     "data": {
      "text/plain": [
       "rolling_dice (generic function with 1 method)"
      ]
     },
     "execution_count": 16,
     "metadata": {},
     "output_type": "execute_result"
    }
   ],
   "source": [
    "function rolling_dice()\n",
    "    dice = rand(1:6)\n",
    "end "
   ]
  },
  {
   "cell_type": "code",
   "execution_count": 22,
   "id": "6a93b363",
   "metadata": {},
   "outputs": [
    {
     "data": {
      "text/plain": [
       "3"
      ]
     },
     "execution_count": 22,
     "metadata": {},
     "output_type": "execute_result"
    }
   ],
   "source": [
    "rolling_dice()"
   ]
  },
  {
   "cell_type": "code",
   "execution_count": 27,
   "id": "2f789542",
   "metadata": {},
   "outputs": [
    {
     "data": {
      "text/plain": [
       "rolling_n_times (generic function with 1 method)"
      ]
     },
     "execution_count": 27,
     "metadata": {},
     "output_type": "execute_result"
    }
   ],
   "source": [
    "function rolling_n_times(n)\n",
    "    result = \"\"\n",
    "    for i = 1:n\n",
    "        result *= string(rolling_dice())\n",
    "    end\n",
    "    return result\n",
    "end"
   ]
  },
  {
   "cell_type": "code",
   "execution_count": 30,
   "id": "ecc65e5a",
   "metadata": {},
   "outputs": [
    {
     "data": {
      "text/plain": [
       "\"55615256355646265231\""
      ]
     },
     "execution_count": 30,
     "metadata": {},
     "output_type": "execute_result"
    }
   ],
   "source": [
    "n = 20\n",
    "rolling_n_times(n)"
   ]
  },
  {
   "cell_type": "code",
   "execution_count": 73,
   "id": "d00d40b1",
   "metadata": {},
   "outputs": [
    {
     "name": "stdout",
     "output_type": "stream",
     "text": [
      "HTTHHTTTTH\n"
     ]
    },
    {
     "data": {
      "text/plain": [
       "0.6"
      ]
     },
     "execution_count": 73,
     "metadata": {},
     "output_type": "execute_result"
    }
   ],
   "source": [
    "# Randomly flipping coins and the Prob. that heads appear\n",
    "function FlipCoin(numFlips)\n",
    "    Flip = rand([\"H\", \"T\"])\n",
    "end\n",
    "   \n",
    "function pFlips(numFlips)\n",
    "    global Flips \n",
    "    Flips = \"\"\n",
    "    for i = 1:numFlips\n",
    "        Flips *= FlipCoin(numFlips)\n",
    "    end\n",
    "    return Flips\n",
    "end \n",
    "\n",
    "function FractionsOfHeads(numFlips)\n",
    "    Heads = 0\n",
    "    for _ in 1:numFlips\n",
    "        if rand(Bool) == true # <- no quotation mark here. This way is more direct, instead of \"H\" or \"T\".\n",
    "            Heads += 1\n",
    "        end\n",
    "    end\n",
    "    \n",
    "    FracHeads = Heads / numFlips\n",
    "    return FracHeads\n",
    "end\n",
    "\n",
    "numFlips = 10\n",
    "println(pFlips(numFlips))\n",
    "FractionsOfHeads(numFlips)"
   ]
  },
  {
   "cell_type": "code",
   "execution_count": 93,
   "id": "31cb5bf6",
   "metadata": {},
   "outputs": [
    {
     "name": "stdout",
     "output_type": "stream",
     "text": [
      "THHHTHHHTTTHHHTHTTHTHHHTTTHTTHTTT\n"
     ]
    },
    {
     "data": {
      "text/plain": [
       "0.48484848484848486"
      ]
     },
     "execution_count": 93,
     "metadata": {},
     "output_type": "execute_result"
    }
   ],
   "source": [
    "# Adjust so that the Prob. of Heads is exactly equal to Flips shown in the pFlips function above.\n",
    "function FractionsOfHeads(numFlips)\n",
    "    Flips\n",
    "    Heads = count(isequal('H'), Flips)\n",
    "    FracHeads = Heads / numFlips\n",
    "    return FracHeads\n",
    "end\n",
    "\n",
    "numFlips = 33\n",
    "println(pFlips(numFlips))\n",
    "FractionsOfHeads(numFlips)"
   ]
  }
 ],
 "metadata": {
  "kernelspec": {
   "display_name": "Julia 1.9.3",
   "language": "julia",
   "name": "julia-1.9"
  },
  "language_info": {
   "file_extension": ".jl",
   "mimetype": "application/julia",
   "name": "julia",
   "version": "1.9.3"
  }
 },
 "nbformat": 4,
 "nbformat_minor": 5
}
